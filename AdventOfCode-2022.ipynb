{
 "cells": [
  {
   "cell_type": "code",
   "execution_count": 76,
   "id": "c5ba4443",
   "metadata": {},
   "outputs": [],
   "source": [
    "import numpy as np\n",
    "import string\n",
    "import re\n",
    "import copy"
   ]
  },
  {
   "cell_type": "markdown",
   "id": "8741f032",
   "metadata": {},
   "source": [
    "### Day 1: Part 1 & 2"
   ]
  },
  {
   "cell_type": "code",
   "execution_count": 2,
   "id": "7dbd3736",
   "metadata": {},
   "outputs": [
    {
     "name": "stdout",
     "output_type": "stream",
     "text": [
      "Part 1 - Elf with most calories carries: 68442\n",
      "Part 2 - Three top elves carry: 204837\n"
     ]
    }
   ],
   "source": [
    "with open(\"input/input01.txt\") as file:\n",
    "    data = file.readlines()\n",
    "\n",
    "elves = []\n",
    "cals = 0\n",
    "for line in data:\n",
    "    if line.strip() == \"\":\n",
    "        elves.append(cals)\n",
    "        cals = 0\n",
    "    else:\n",
    "        cals += int(line.strip())\n",
    "        \n",
    "elves.append(cals)\n",
    "elves.sort(reverse=True)\n",
    "\n",
    "print(\"Part 1 - Elf with most calories carries:\", elves[0])\n",
    "print(\"Part 2 - Three top elves carry:\", sum(elves[0:3]))"
   ]
  },
  {
   "cell_type": "markdown",
   "id": "0addd3c1",
   "metadata": {},
   "source": [
    "### Day 2: Part 1 & 2"
   ]
  },
  {
   "cell_type": "code",
   "execution_count": 3,
   "id": "e0b41439",
   "metadata": {
    "scrolled": false
   },
   "outputs": [
    {
     "name": "stdout",
     "output_type": "stream",
     "text": [
      "Part 1 total score:  9177\n",
      "Part 2 total score:  12111\n"
     ]
    }
   ],
   "source": [
    "oppon_dict = {\"A\":\"Rock\", \"B\":\"Paper\", \"C\":\"Scissors\"}\n",
    "my_dict = {\"X\":\"Rock\", \"Y\":\"Paper\", \"Z\":\"Scissors\"}\n",
    "my_dict_2 = {\"X\":\"lose\", \"Y\":\"draw\", \"Z\":\"win\"}\n",
    "pts_dict = {\"Rock\":1, \"Paper\":2, \"Scissors\":3}\n",
    "win_dict = {\"Rock\":\"Paper\", \"Paper\":\"Scissors\", \"Scissors\":\"Rock\"}\n",
    "lose_dict = {v: k for k, v in win_dict.items()}\n",
    "\n",
    "with open(\"input/input02.txt\") as file:\n",
    "    input2 = file.readlines()\n",
    "\n",
    "score = 0\n",
    "for line in input2:\n",
    "    rnd = line.split()\n",
    "    rnd_diff = pts_dict[oppon_dict[rnd[0]]] - pts_dict[my_dict[rnd[1]]]\n",
    "    score += pts_dict[my_dict[rnd[1]]]\n",
    "    \n",
    "    if oppon_dict[rnd[0]] == my_dict[rnd[1]]:\n",
    "        score += 3 \n",
    "    elif rnd_diff == -1 or rnd_diff == 2:\n",
    "        score += 6\n",
    "    else:\n",
    "        pass\n",
    "    \n",
    "print(\"Part 1 total score: \", score)\n",
    "\n",
    "score_2 = 0\n",
    "for line in input2:\n",
    "    my_choice = \"\"\n",
    "    rnd = line.split()\n",
    "    \n",
    "    if my_dict_2[rnd[1]] == \"draw\":\n",
    "        my_choice = oppon_dict[rnd[0]]\n",
    "        score_2 += 3\n",
    "    elif my_dict_2[rnd[1]] == \"win\":\n",
    "        my_choice = win_dict[oppon_dict[rnd[0]]]\n",
    "        score_2 += 6\n",
    "    else:\n",
    "        my_choice = lose_dict[oppon_dict[rnd[0]]]\n",
    "        \n",
    "    score_2 += pts_dict[my_choice]\n",
    "\n",
    "print(\"Part 2 total score: \", score_2)"
   ]
  },
  {
   "cell_type": "markdown",
   "id": "b653c627",
   "metadata": {},
   "source": [
    "### Day 3: Part 1 & 2"
   ]
  },
  {
   "cell_type": "code",
   "execution_count": 4,
   "id": "e8053d10",
   "metadata": {},
   "outputs": [
    {
     "name": "stdout",
     "output_type": "stream",
     "text": [
      "Part 1 priority = 7674\n",
      "Part 2 priority = 2805\n"
     ]
    }
   ],
   "source": [
    "with open(\"input/input03.txt\") as file:\n",
    "    input3 = file.readlines()\n",
    "\n",
    "alphabet = [*string.ascii_lowercase, *string.ascii_uppercase]\n",
    "\n",
    "priority = 0\n",
    "for rucksack in input3:\n",
    "    comp1 = rucksack[:int(len(rucksack)/2)]\n",
    "    comp2 = rucksack[int(len(rucksack)/2):]\n",
    "    dbl_char = []\n",
    "    for char in comp1:\n",
    "        if char in comp2:               \n",
    "            if char not in dbl_char:\n",
    "                dbl_char.append(char)\n",
    "                priority += alphabet.index(char)+1\n",
    "    \n",
    "print(\"Part 1 priority =\", priority)\n",
    "\n",
    "priority_2 = 0\n",
    "for i in range(0, len(input3), 3): \n",
    "    for char in alphabet:\n",
    "        char_no = 0\n",
    "        for elf in range(3):\n",
    "            if char in input3[i+elf]:\n",
    "                char_no += 1\n",
    "        if char_no == 3:\n",
    "            priority_2 += alphabet.index(char)+1\n",
    "            \n",
    "print(\"Part 2 priority =\", priority_2)"
   ]
  },
  {
   "cell_type": "markdown",
   "id": "534c2c83",
   "metadata": {},
   "source": [
    "### Day 4: Part 1 & 2"
   ]
  },
  {
   "cell_type": "code",
   "execution_count": 5,
   "id": "942f73b3",
   "metadata": {},
   "outputs": [
    {
     "name": "stdout",
     "output_type": "stream",
     "text": [
      "Part 1: Fully contained assignments:  571\n",
      "Part 2: Overlapping assignments:  917\n"
     ]
    }
   ],
   "source": [
    "with open(\"input/input04.txt\") as file:\n",
    "    input4 = file.readlines()\n",
    "\n",
    "dbl_assgnm = 0\n",
    "overlaps = 0\n",
    "for line in input4:    \n",
    "    assgnm = re.split(r',|-', line.strip())\n",
    "    assgnm = [int(i) for i in assgnm]\n",
    "    elf1 = np.linspace(assgnm[0],assgnm[1], assgnm[1]-assgnm[0]+1, dtype=int)\n",
    "    elf2 = np.linspace(assgnm[2],assgnm[3], assgnm[3]-assgnm[2]+1, dtype=int)\n",
    "    \n",
    "    if set(elf2).issubset(set(elf1)) or set(elf1).issubset(set(elf2)):\n",
    "        dbl_assgnm +=1\n",
    "    \n",
    "    for i in elf1:\n",
    "        if i in elf2:\n",
    "            overlaps += 1\n",
    "            break\n",
    "    \n",
    "print(\"Part 1: Fully contained assignments: \", dbl_assgnm)\n",
    "print(\"Part 2: Overlapping assignments: \", overlaps)"
   ]
  },
  {
   "cell_type": "markdown",
   "id": "26d5a950",
   "metadata": {},
   "source": [
    "   ### Day 5: Part 1"
   ]
  },
  {
   "cell_type": "code",
   "execution_count": 81,
   "id": "67c308fb",
   "metadata": {},
   "outputs": [
    {
     "name": "stdout",
     "output_type": "stream",
     "text": [
      "Top crates part 1:  FJSRQCFTN\n",
      "Top crates part 2:  CJVLJQPHS\n"
     ]
    }
   ],
   "source": [
    "with open(\"input/input05.txt\") as file:\n",
    "    input5 = file.read().splitlines()\n",
    "\n",
    "# extracting info from input\n",
    "stacks = []\n",
    "cmds = []\n",
    "\n",
    "for i, line in enumerate(input5):\n",
    "    if i < 8:\n",
    "        stacks.append(re.findall('....',line))\n",
    "\n",
    "    elif i > 9:\n",
    "        line = line.split()\n",
    "        cmd = [int(line[1]), int(line[3]), int(line[5])]\n",
    "        cmds.append(cmd)\n",
    "\n",
    "# Organizing stacks of grates in lists\n",
    "crates = []\n",
    "for stack in range(8):\n",
    "    crates.append([])\n",
    "    \n",
    "for h in range(7, -1, -1):\n",
    "    for stack in range(8):\n",
    "        if stacks[h][stack].strip() != \"\":\n",
    "            crates[stack].append(stacks[h][stack].strip())\n",
    "\n",
    "# can't figure out to read last col of crates       \n",
    "crates.append(['[J]', '[S]', '[Q]', '[C]', '[W]', '[D]', '[M]'])\n",
    "crates_2 = copy.deepcopy(crates)\n",
    "\n",
    "for cmd in cmds:  \n",
    "    a = crates[cmd[1]-1][-cmd[0]:]\n",
    "    a_rev = a[::-1]\n",
    "    crates[cmd[2]-1] = crates[cmd[2]-1] + a_rev\n",
    "    crates[cmd[1]-1] = crates[cmd[1]-1][:-cmd[0]]\n",
    "    \n",
    "    b = crates_2[cmd[1]-1][-cmd[0]:]\n",
    "    crates_2[cmd[2]-1] = crates_2[cmd[2]-1] + b\n",
    "    crates_2[cmd[1]-1] = crates_2[cmd[1]-1][:-cmd[0]]\n",
    "    \n",
    "answer = \"\"\n",
    "answer_2 = \"\"\n",
    "for i in range(9):\n",
    "    answer += crates[i][-1].strip(\"[\").strip(\"]\")\n",
    "    answer_2 += crates_2[i][-1].strip(\"[\").strip(\"]\")\n",
    "    \n",
    "print(\"Top crates part 1: \", answer)\n",
    "print(\"Top crates part 2: \", answer_2)"
   ]
  },
  {
   "cell_type": "markdown",
   "id": "5c12c74d",
   "metadata": {},
   "source": [
    "### Day 6: Part 1 & 2"
   ]
  },
  {
   "cell_type": "code",
   "execution_count": 123,
   "id": "2a8185c7",
   "metadata": {},
   "outputs": [
    {
     "name": "stdout",
     "output_type": "stream",
     "text": [
      "Part 1:  1640\n",
      "Part 2:  3613\n"
     ]
    }
   ],
   "source": [
    "with open(\"input/input06.txt\") as file:\n",
    "    input6 = file.read()\n",
    "\n",
    "input6 = [*input6]\n",
    " \n",
    "for i in range(len(input6)-3):\n",
    "    seq = input6[i:i+4]\n",
    "    dbls = 0\n",
    "    for char in seq:\n",
    "        if seq.count(char) > 1:\n",
    "            dbls += 1\n",
    "    if dbls == 0:\n",
    "        print(\"Part 1: \", i+4)\n",
    "        break\n",
    "        \n",
    "for i in range(len(input6)-14):\n",
    "    seq_2 = input6[i:i+14]\n",
    "    dbls_2 = 0\n",
    "    for char in seq_2:\n",
    "        if seq_2.count(char) > 1:\n",
    "            dbls_2 += 1\n",
    "    if dbls_2 == 0:\n",
    "        print(\"Part 2: \", i+14)\n",
    "        break"
   ]
  }
 ],
 "metadata": {
  "kernelspec": {
   "display_name": "Python 3 (ipykernel)",
   "language": "python",
   "name": "python3"
  },
  "language_info": {
   "codemirror_mode": {
    "name": "ipython",
    "version": 3
   },
   "file_extension": ".py",
   "mimetype": "text/x-python",
   "name": "python",
   "nbconvert_exporter": "python",
   "pygments_lexer": "ipython3",
   "version": "3.9.12"
  }
 },
 "nbformat": 4,
 "nbformat_minor": 5
}
